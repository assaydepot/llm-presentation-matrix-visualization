{
 "cells": [
  {
   "cell_type": "code",
   "execution_count": 1,
   "id": "c11603bd-ca44-44ba-b28a-812b22b26d32",
   "metadata": {},
   "outputs": [
    {
     "name": "stdout",
     "output_type": "stream",
     "text": [
      "Requirement already satisfied: numpy in /opt/conda/lib/python3.11/site-packages (1.24.4)\n",
      "Requirement already satisfied: matplotlib in /opt/conda/lib/python3.11/site-packages (3.8.0)\n",
      "Requirement already satisfied: opencv-python in /opt/conda/lib/python3.11/site-packages (4.10.0.84)\n",
      "Requirement already satisfied: contourpy>=1.0.1 in /opt/conda/lib/python3.11/site-packages (from matplotlib) (1.1.1)\n",
      "Requirement already satisfied: cycler>=0.10 in /opt/conda/lib/python3.11/site-packages (from matplotlib) (0.12.1)\n",
      "Requirement already satisfied: fonttools>=4.22.0 in /opt/conda/lib/python3.11/site-packages (from matplotlib) (4.43.1)\n",
      "Requirement already satisfied: kiwisolver>=1.0.1 in /opt/conda/lib/python3.11/site-packages (from matplotlib) (1.4.5)\n",
      "Requirement already satisfied: packaging>=20.0 in /opt/conda/lib/python3.11/site-packages (from matplotlib) (23.2)\n",
      "Requirement already satisfied: pillow>=6.2.0 in /opt/conda/lib/python3.11/site-packages (from matplotlib) (10.1.0)\n",
      "Requirement already satisfied: pyparsing>=2.3.1 in /opt/conda/lib/python3.11/site-packages (from matplotlib) (3.1.1)\n",
      "Requirement already satisfied: python-dateutil>=2.7 in /opt/conda/lib/python3.11/site-packages (from matplotlib) (2.8.2)\n",
      "Requirement already satisfied: six>=1.5 in /opt/conda/lib/python3.11/site-packages (from python-dateutil>=2.7->matplotlib) (1.16.0)\n",
      "\n",
      "\u001b[1m[\u001b[0m\u001b[34;49mnotice\u001b[0m\u001b[1;39;49m]\u001b[0m\u001b[39;49m A new release of pip is available: \u001b[0m\u001b[31;49m24.0\u001b[0m\u001b[39;49m -> \u001b[0m\u001b[32;49m24.2\u001b[0m\n",
      "\u001b[1m[\u001b[0m\u001b[34;49mnotice\u001b[0m\u001b[1;39;49m]\u001b[0m\u001b[39;49m To update, run: \u001b[0m\u001b[32;49mpip install --upgrade pip\u001b[0m\n",
      "Note: you may need to restart the kernel to use updated packages.\n"
     ]
    }
   ],
   "source": [
    "pip install numpy matplotlib opencv-python"
   ]
  },
  {
   "cell_type": "code",
   "execution_count": 2,
   "id": "ea43399c-c5e8-4cb9-a348-fbaa6f8b594c",
   "metadata": {},
   "outputs": [],
   "source": [
    "import numpy as np\n",
    "import matplotlib.pyplot as plt\n",
    "import cv2\n",
    "import os"
   ]
  },
  {
   "cell_type": "code",
   "execution_count": 3,
   "id": "0520c18f-ae86-43cf-bf37-6e9982a3eeba",
   "metadata": {},
   "outputs": [],
   "source": [
    "def translation_matrix(t):\n",
    "    return np.array([\n",
    "        [1, 0, 0, t[0]],\n",
    "        [0, 1, 0, t[1]],\n",
    "        [0, 0, 1, t[2]],\n",
    "        [0, 0, 0, 1]\n",
    "    ])\n",
    "\n",
    "def scaling_matrix(s):\n",
    "    return np.array([\n",
    "        [s[0], 0, 0, 0],\n",
    "        [0, s[1], 0, 0],\n",
    "        [0, 0, s[2], 0],\n",
    "        [0, 0, 0, 1]\n",
    "    ])\n",
    "\n",
    "def rotation_matrix_x(theta):\n",
    "    return np.array([\n",
    "        [1, 0, 0, 0],\n",
    "        [0, np.cos(theta), -np.sin(theta), 0],\n",
    "        [0, np.sin(theta), np.cos(theta), 0],\n",
    "        [0, 0, 0, 1]\n",
    "    ])\n",
    "\n",
    "def rotation_matrix_y(theta):\n",
    "    return np.array([\n",
    "        [np.cos(theta), 0, np.sin(theta), 0],\n",
    "        [0, 1, 0, 0],\n",
    "        [-np.sin(theta), 0, np.cos(theta), 0],\n",
    "        [0, 0, 0, 1]\n",
    "    ])\n",
    "\n",
    "def rotation_matrix_z(theta):\n",
    "    return np.array([\n",
    "        [np.cos(theta), -np.sin(theta), 0, 0],\n",
    "        [np.sin(theta), np.cos(theta), 0, 0],\n",
    "        [0, 0, 1, 0],\n",
    "        [0, 0, 0, 1]\n",
    "    ])\n",
    "\n",
    "def combine_transformations(transformations):\n",
    "    M = np.eye(4)\n",
    "    for transform in transformations:\n",
    "        M = transform @ M\n",
    "    return M\n",
    "\n",
    "def apply_transformation(M, points):\n",
    "    points = np.hstack([points, np.ones((points.shape[0], 1))])\n",
    "    transformed_points = (M @ points.T).T\n",
    "    return transformed_points[:, :3]"
   ]
  },
  {
   "cell_type": "code",
   "execution_count": 4,
   "id": "ee4bab2a-dec4-429a-a5e6-05ced0087e5a",
   "metadata": {},
   "outputs": [],
   "source": [
    "def generate_frames(output_dir='frames', num_frames=60):\n",
    "    if not os.path.exists(output_dir):\n",
    "        os.makedirs(output_dir)\n",
    "    \n",
    "    # Define a simple 3D object (cube)\n",
    "    cube = np.array([\n",
    "        [1, 1, 1],\n",
    "        [1, -1, 1],\n",
    "        [-1, -1, 1],\n",
    "        [-1, 1, 1],\n",
    "        [1, 1, -1],\n",
    "        [1, -1, -1],\n",
    "        [-1, -1, -1],\n",
    "        [-1, 1, -1]\n",
    "    ])\n",
    "    \n",
    "    edges = [\n",
    "        [0, 1], [1, 2], [2, 3], [3, 0],\n",
    "        [4, 5], [5, 6], [6, 7], [7, 4],\n",
    "        [0, 4], [1, 5], [2, 6], [3, 7]\n",
    "    ]\n",
    "    \n",
    "    for i in range(num_frames):\n",
    "        theta = (i / num_frames) * 2 * np.pi\n",
    "        scaling = scaling_matrix([1 + i / num_frames, 1 + ((i*4) / num_frames), 1 + i / num_frames])\n",
    "        rotation = rotation_matrix_z(theta)\n",
    "        \n",
    "        # Combine transformations\n",
    "        M = combine_transformations([scaling, rotation])\n",
    "        transformed_cube = apply_transformation(M, cube)\n",
    "        \n",
    "        fig = plt.figure()\n",
    "        ax = fig.add_subplot(111, projection='3d')\n",
    "        \n",
    "        for edge in edges:\n",
    "            ax.plot(\n",
    "                [transformed_cube[edge[0], 0], transformed_cube[edge[1], 0]],\n",
    "                [transformed_cube[edge[0], 1], transformed_cube[edge[1], 1]],\n",
    "                [transformed_cube[edge[0], 2], transformed_cube[edge[1], 2]], 'b'\n",
    "            )\n",
    "        \n",
    "        ax.set_xlim([-3, 3])\n",
    "        ax.set_ylim([-3, 3])\n",
    "        ax.set_zlim([-3, 3])\n",
    "        plt.axis('off')\n",
    "        \n",
    "        frame_path = os.path.join(output_dir, f'frame_{i:03d}.png')\n",
    "        plt.savefig(frame_path)\n",
    "        plt.close()\n",
    "\n",
    "generate_frames()"
   ]
  },
  {
   "cell_type": "code",
   "execution_count": 5,
   "id": "fca373ed-99fa-4596-a597-40ca56920a07",
   "metadata": {},
   "outputs": [],
   "source": [
    "def create_video(output_dir='frames', video_filename='transformation_video.mp4', fps=30):\n",
    "    frame_files = sorted([f for f in os.listdir(output_dir) if f.endswith('.png')])\n",
    "    frame = cv2.imread(os.path.join(output_dir, frame_files[0]))\n",
    "    height, width, layers = frame.shape\n",
    "\n",
    "    video = cv2.VideoWriter(video_filename, cv2.VideoWriter_fourcc(*'mp4v'), fps, (width, height))\n",
    "\n",
    "    for frame_file in frame_files:\n",
    "        frame = cv2.imread(os.path.join(output_dir, frame_file))\n",
    "        video.write(frame)\n",
    "\n",
    "    cv2.destroyAllWindows()\n",
    "    video.release()\n",
    "\n",
    "create_video()"
   ]
  },
  {
   "cell_type": "code",
   "execution_count": 6,
   "id": "4ab3216f-21ef-484d-9136-aed85a37540a",
   "metadata": {},
   "outputs": [
    {
     "data": {
      "text/html": [
       "<video src=\"transformation_video.mp4\" controls  >\n",
       "      Your browser does not support the <code>video</code> element.\n",
       "    </video>"
      ],
      "text/plain": [
       "<IPython.core.display.Video object>"
      ]
     },
     "execution_count": 6,
     "metadata": {},
     "output_type": "execute_result"
    }
   ],
   "source": [
    "from IPython.display import Video\n",
    "\n",
    "Video('transformation_video.mp4')"
   ]
  },
  {
   "cell_type": "code",
   "execution_count": 7,
   "id": "2933a0af-4740-4892-a49b-5b39beb5c6f0",
   "metadata": {},
   "outputs": [],
   "source": [
    "import os\n",
    "import numpy as np\n",
    "import matplotlib.pyplot as plt\n",
    "from mpl_toolkits.mplot3d import Axes3D\n",
    "\n",
    "def generate_frames(output_dir='frames', num_frames=60):\n",
    "    if not os.path.exists(output_dir):\n",
    "        os.makedirs(output_dir)\n",
    "    \n",
    "    # Define the origin\n",
    "    origin = np.array([0, 0, 0])\n",
    "\n",
    "    # Define 25 vectors of different lengths between 1 and 2 units\n",
    "    vectors = np.random.randn(25, 3)  # Randomly generate 25 direction vectors\n",
    "\n",
    "    # Normalize each vector to make them between 1 and 2 units in length\n",
    "    lengths = 1 + np.random.rand(25)  # Generate random lengths between 1 and 2\n",
    "    normalized_vectors = vectors / np.linalg.norm(vectors, axis=1)[:, np.newaxis] * lengths[:, np.newaxis]\n",
    "    \n",
    "    # Generate a list of random colors for each vector\n",
    "    colors = np.random.rand(25, 3)  # 25 colors in RGB format\n",
    "\n",
    "    for i in range(num_frames):\n",
    "        theta = (i / num_frames) * 2 * np.pi\n",
    "        scaling = scaling_matrix([1 + i / num_frames, 1 + ((i * 2) / num_frames), 1 + ((i * .25) / num_frames)])\n",
    "        rotation = rotation_matrix_z(theta)\n",
    "        \n",
    "        # Combine transformations\n",
    "        M = combine_transformations([scaling, rotation])\n",
    "        transformed_vectors = apply_transformation(M, normalized_vectors)\n",
    "        \n",
    "        fig = plt.figure()\n",
    "        ax = fig.add_subplot(111, projection='3d')\n",
    "        \n",
    "        for vector, color in zip(transformed_vectors, colors):\n",
    "            ax.quiver(\n",
    "                origin[0], origin[1], origin[2],\n",
    "                vector[0], vector[1], vector[2],\n",
    "                length=np.linalg.norm(vector), normalize=True, color=color,\n",
    "                arrow_length_ratio=0.1  # Remove the arrowheads\n",
    "            )\n",
    "        \n",
    "        ax.set_xlim([-3, 3])\n",
    "        ax.set_ylim([-3, 3])\n",
    "        ax.set_zlim([-3, 3])\n",
    "        plt.axis('off')\n",
    "        \n",
    "        frame_path = os.path.join(output_dir, f'frame_{i:03d}.png')\n",
    "        plt.savefig(frame_path)\n",
    "        plt.close()\n",
    "\n",
    "generate_frames()"
   ]
  },
  {
   "cell_type": "code",
   "execution_count": 8,
   "id": "98bd3034-ae5b-4bd4-8e6a-c1c8e6bfd959",
   "metadata": {},
   "outputs": [
    {
     "data": {
      "text/html": [
       "<video src=\"transformation_video.mp4\" controls  >\n",
       "      Your browser does not support the <code>video</code> element.\n",
       "    </video>"
      ],
      "text/plain": [
       "<IPython.core.display.Video object>"
      ]
     },
     "execution_count": 8,
     "metadata": {},
     "output_type": "execute_result"
    }
   ],
   "source": [
    "create_video()\n",
    "from IPython.display import Video\n",
    "Video('transformation_video.mp4')"
   ]
  },
  {
   "cell_type": "code",
   "execution_count": null,
   "id": "871f5671-592e-41b3-9ede-a40d39683933",
   "metadata": {},
   "outputs": [],
   "source": []
  },
  {
   "cell_type": "code",
   "execution_count": null,
   "id": "3977421b-592a-479a-b9a6-6cc22e807f0a",
   "metadata": {},
   "outputs": [],
   "source": []
  }
 ],
 "metadata": {
  "kernelspec": {
   "display_name": "my-rdkit-env",
   "language": "python",
   "name": "my-rdkit-env"
  },
  "language_info": {
   "codemirror_mode": {
    "name": "ipython",
    "version": 3
   },
   "file_extension": ".py",
   "mimetype": "text/x-python",
   "name": "python",
   "nbconvert_exporter": "python",
   "pygments_lexer": "ipython3",
   "version": "3.11.6"
  }
 },
 "nbformat": 4,
 "nbformat_minor": 5
}
